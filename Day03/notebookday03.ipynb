{
 "cells": [
  {
   "cell_type": "code",
   "execution_count": 7,
   "metadata": {},
   "outputs": [
    {
     "name": "stdout",
     "output_type": "stream",
     "text": [
      "Invalid input, please type \"circle\" or \"rectangle\"\n"
     ]
    }
   ],
   "source": [
    "rectangle = False\n",
    "circle = False\n",
    "\n",
    "choice = str(input('Please, choose the object: rectangle or circle'))\n",
    "if choice == \"rectangle\":\n",
    "\n",
    "    rectangle = True\n",
    "\n",
    "    width = int(input('Please, enter width:'))\n",
    "    length = int(input('Please, enter leng\"th:'))\n",
    "\n",
    "    areaR = width*length\n",
    "    circR = 2*(length + width)\n",
    "\n",
    "    print(\"The area of the rectangle is:\", areaR)\n",
    "    print(\"The perimetr of the rectangle is:\", circR)\n",
    "\n",
    "elif choice == \"circle\":\n",
    "\n",
    "    circle = True\n",
    "\n",
    "    radius = 5\n",
    "    pi = 3.1415926\n",
    "\n",
    "    areaC = pi*radius**2\n",
    "    circC = 2*pi*radius\n",
    "\n",
    "    radius = int(input('Please, enter the radius:'))\n",
    "\n",
    "    print(\"The are of the circle is:\", areaC)\n",
    "    print(\"The circumference of the circle is:\", circC)\n",
    "else:\n",
    "    print('Invalid input, please type \"circle\" or \"rectangle\"')"
   ]
  }
 ],
 "metadata": {
  "kernelspec": {
   "display_name": "Python 3",
   "language": "python",
   "name": "python3"
  },
  "language_info": {
   "codemirror_mode": {
    "name": "ipython",
    "version": 3
   },
   "file_extension": ".py",
   "mimetype": "text/x-python",
   "name": "python",
   "nbconvert_exporter": "python",
   "pygments_lexer": "ipython3",
   "version": "3.13.0"
  }
 },
 "nbformat": 4,
 "nbformat_minor": 2
}
