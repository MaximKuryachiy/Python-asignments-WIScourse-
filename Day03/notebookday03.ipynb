{
 "cells": [
  {
   "cell_type": "code",
   "execution_count": 2,
   "metadata": {},
   "outputs": [
    {
     "name": "stdout",
     "output_type": "stream",
     "text": [
      "The area of the rectangle is: 6\n",
      "The perimetr of the rectangle is: 10\n",
      "The are of the circle is: 78.539815\n",
      "The circumference of the circle is: 31.415926\n"
     ]
    }
   ],
   "source": [
    "width = 2\n",
    "length =  3\n",
    "radius = 5\n",
    "pi = 3.1415926\n",
    "areaR = width*length\n",
    "areaC = pi*radius**2\n",
    "circR = 2*(length + width)\n",
    "circC = 2*pi*radius\n",
    "\n",
    "print(\"The area of the rectangle is:\", areaR)\n",
    "print(\"The perimetr of the rectangle is:\", circR)\n",
    "print(\"The are of the circle is:\", areaC)\n",
    "print(\"The circumference of the circle is:\", circC)"
   ]
  }
 ],
 "metadata": {
  "kernelspec": {
   "display_name": "Python 3",
   "language": "python",
   "name": "python3"
  },
  "language_info": {
   "codemirror_mode": {
    "name": "ipython",
    "version": 3
   },
   "file_extension": ".py",
   "mimetype": "text/x-python",
   "name": "python",
   "nbconvert_exporter": "python",
   "pygments_lexer": "ipython3",
   "version": "3.13.0"
  }
 },
 "nbformat": 4,
 "nbformat_minor": 2
}
