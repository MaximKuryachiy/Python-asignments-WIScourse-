{
 "cells": [
  {
   "cell_type": "markdown",
   "metadata": {
    "id": "QO27BfQYX15A"
   },
   "source": [
    "# Dilution Calculation and Visualization"
   ]
  },
  {
   "cell_type": "markdown",
   "metadata": {
    "id": "FmmUaZjVX15B"
   },
   "source": [
    "### Introduction:\n",
    "In this assignment, we will practice using Python to solve a common problem in biology labs: calculating dilutions of solutions. You will learn how to use a for loop to perform repeated calculations and use matplotlib to visualize your results."
   ]
  },
  {
   "cell_type": "markdown",
   "metadata": {
    "id": "WDUM7JOkX15C"
   },
   "source": [
    "### Biology Background:\n",
    "When working in the lab, you often need to prepare solutions with specific concentrations. If you have a stock solution with a known concentration (\n",
    "C1) and you want to dilute it to a lower concentration (C2)\n",
    "you use the following formula:\n",
    "<img src=\"https://toptipbio.com/wp-content/uploads/2017/02/C1V1C2V2.jpg\" alt=\"Dilution Formula\" width=\"300\">\n",
    "\n",
    "\n",
    "Where:\n",
    "- **\\(C1\\)**: Initial (stock) concentration\n",
    "- **\\(V1\\)**: Volume of the stock solution used\n",
    "- **\\(C2\\)**: Final concentration after dilution\n",
    "- **\\(V2\\)**: Final total volume of the solution"
   ]
  },
  {
   "cell_type": "markdown",
   "metadata": {
    "id": "65qk2qxlX15C"
   },
   "source": [
    "\n",
    "### Explanation of Basic Python Operations\n",
    "\n",
    "- **`*` (Multiplication)**:\n",
    "  - Example:\n",
    "    ```python\n",
    "    result = 3 * 4  # This equals 12\n",
    "    ```\n",
    "\n",
    "- **`/` (Division)**:\n",
    "  - Example:\n",
    "    ```python\n",
    "    result = 7 / 2  # This equals 3.5\n",
    "    ```\n",
    "\n",
    "- **`-` (Subtraction)**:\n",
    "  - Example:\n",
    "    ```python\n",
    "    result = 10 - 4  # This equals 6\n",
    "    ```\n",
    "\n",
    "- **`+` (Addition)**:\n",
    "  - Example:\n",
    "    ```python\n",
    "    result = 5 + 7  # This equals 12\n",
    "    ```\n",
    "\n",
    "These basic operations are very helpful for performing calculations in Python.\n"
   ]
  },
  {
   "cell_type": "markdown",
   "metadata": {
    "id": "GeIs6IUXX15C"
   },
   "source": [
    "### 📝 Task: Complete the Code\n",
    "\n",
    "Complete the code by filling in the missing parts marked with `# TODO #`.\n",
    "\n",
    "Good luck, and have fun! 😊\n"
   ]
  },
  {
   "cell_type": "markdown",
   "metadata": {
    "id": "uYGRGCsKX15C"
   },
   "source": [
    "\n",
    "\n",
    "\n",
    "## <font color='cyan'> Part 1: Define the Given Values"
   ]
  },
  {
   "cell_type": "code",
   "execution_count": null,
   "metadata": {
    "id": "vRozBGvZX15D"
   },
   "outputs": [],
   "source": [
    "# Given values\n",
    "C1_values = [10, 2, 50, 3, 13*10**(-5), 6, 78, 10*10**(-5), 17, 3]# TODO : at least 10 values\n",
    "V1 = 50 # TODO:Initial volume\n",
    "V2 = 100 # TODO: Final volume"
   ]
  },
  {
   "cell_type": "markdown",
   "metadata": {
    "id": "HDf8qCPzX15D"
   },
   "source": [
    "\n",
    "##  <font color='cyan'> Part 2: Calculate the Final Concentrations Using a For Loop"
   ]
  },
  {
   "cell_type": "markdown",
   "metadata": {
    "id": "Ni52iCQ9X15D"
   },
   "source": [
    "A **for loop** is a way to repeat a set of instructions multiple times. It allows you to iterate over a list of items and perform an action on each item in the list.\n",
    "**How It Works:**\n",
    "The basic structure of a `for` loop looks like this:\n",
    "\n",
    "```python\n",
    "for i in list_of_i:\n",
    "    # Perform an action with each i\n",
    "    print(i)\n",
    "``````\n",
    "    \n",
    "- `for`: This keyword starts the loop.\n",
    "- `i`: This is a variable that takes on the value of each item in the list, one at a time.\n",
    "- `in`: This keyword tells Python to look inside the list of items.\n",
    "- `list_of_i`: This is the list that contains the items you want to loop through.\n",
    "\n",
    "\n",
    "This way, we don’t have to write the formula multiple times. The loop does the repetitive work for us!\n",
    "[🔗 Watch the YouTube Video on For Loops](https://www.youtube.com/watch?v=zmIdC0_0BgY)\n"
   ]
  },
  {
   "cell_type": "code",
   "execution_count": 3,
   "metadata": {
    "id": "PptjwfT6X15D"
   },
   "outputs": [
    {
     "name": "stdout",
     "output_type": "stream",
     "text": [
      "Initial concentration: 10 mg/mL -> Final concentration: 5.00 mg/mL\n",
      "Initial concentration: 2 mg/mL -> Final concentration: 1.00 mg/mL\n",
      "Initial concentration: 50 mg/mL -> Final concentration: 25.00 mg/mL\n",
      "Initial concentration: 3 mg/mL -> Final concentration: 1.50 mg/mL\n",
      "Initial concentration: 0.00013000000000000002 mg/mL -> Final concentration: 0.00 mg/mL\n",
      "Initial concentration: 6 mg/mL -> Final concentration: 3.00 mg/mL\n",
      "Initial concentration: 78 mg/mL -> Final concentration: 39.00 mg/mL\n",
      "Initial concentration: 0.0001 mg/mL -> Final concentration: 0.00 mg/mL\n",
      "Initial concentration: 17 mg/mL -> Final concentration: 8.50 mg/mL\n",
      "Initial concentration: 3 mg/mL -> Final concentration: 1.50 mg/mL\n"
     ]
    }
   ],
   "source": [
    "# Create an empty list to store the calculated C2 values\n",
    "C1_values = [10, 2, 50, 3, 13*10**(-5), 6, 78, 10*10**(-5), 17, 3]\n",
    "V1 = 50\n",
    "V2 = 100\n",
    "C2_values = []\n",
    "\n",
    "# Part 1: Calculate C2 using a for loop\n",
    "for C1 in C1_values:\n",
    "    C2 = (C1*V1)/V2 # TODO: Calculate final concentration\n",
    "    C2_values.append(C2)\n",
    "    print(f\"Initial concentration: {C1} mg/mL -> Final concentration: {C2:.2f} mg/mL\")\n"
   ]
  },
  {
   "cell_type": "markdown",
   "metadata": {
    "id": "nXRDG7UeX15E"
   },
   "source": [
    "\n",
    "##  <font color='cyan'> Part 3: Calculate the Slope"
   ]
  },
  {
   "cell_type": "markdown",
   "metadata": {
    "id": "YAqoKcfMX15E"
   },
   "source": [
    "\n",
    "\n",
    "\n",
    "The **slope** tells us how quickly the final concentration (\\(C_2\\)) changes as the initial concentration (\\(C_1\\)) increases. It represents the **rate of change** of \\(C_2\\) with respect to \\(C_1\\).\n",
    "\n",
    "We will use the formula:\n",
    "\n",
    "<img src=\"https://studybay.com/assets/marketing/blog/slope-formula/slope-formula-calculation-7.jpg\" alt=\"Slope Formula\" width=\"400\">\n",
    "\n",
    "Where:\n",
    "- \\(y_2\\) and \\(y_1\\) are consecutive values of the final concentration (\\(C_2\\)).\n",
    "- \\(x_2\\) and \\(x_1\\) are consecutive values of the initial concentration (\\(C_1\\)).\n",
    "\n",
    "\n",
    "Slope calculating using Python:\n",
    " - Use the list of the values C1 and C2\n",
    " - Write a Python code to calculate the slope between each consecutive pair of points.\n",
    " - Print the slope values.\n",
    "\n",
    "\n"
   ]
  },
  {
   "cell_type": "code",
   "execution_count": 4,
   "metadata": {
    "id": "cSeJo6dCkIQo"
   },
   "outputs": [
    {
     "name": "stdout",
     "output_type": "stream",
     "text": [
      "Initial concentration: 10 mg/mL -> Final concentration: 5.00 mg/mL\n",
      "Initial concentration: 2 mg/mL -> Final concentration: 1.00 mg/mL\n",
      "Initial concentration: 50 mg/mL -> Final concentration: 25.00 mg/mL\n",
      "Initial concentration: 3 mg/mL -> Final concentration: 1.50 mg/mL\n",
      "Initial concentration: 0.00013000000000000002 mg/mL -> Final concentration: 0.00 mg/mL\n",
      "Initial concentration: 6 mg/mL -> Final concentration: 3.00 mg/mL\n",
      "Initial concentration: 78 mg/mL -> Final concentration: 39.00 mg/mL\n",
      "Initial concentration: 0.0001 mg/mL -> Final concentration: 0.00 mg/mL\n",
      "Initial concentration: 17 mg/mL -> Final concentration: 8.50 mg/mL\n",
      "Initial concentration: 3 mg/mL -> Final concentration: 1.50 mg/mL\n",
      "Calculated slopes: [0.5, 0.5, 0.5, 0.5, 0.5, 0.5, 0.5, 0.5, 0.5]\n"
     ]
    }
   ],
   "source": [
    "# Given data\n",
    "C1_values = [10, 2, 50, 3, 13*10**(-5), 6, 78, 10*10**(-5), 17, 3]  # TODO: Initial concentrations (mg/mL)\n",
    "V1 = 50\n",
    "V2 = 100\n",
    "C2_values = []  # TODO: Final concentrations (mg/mL)\n",
    "\n",
    "for C1 in C1_values:\n",
    "    C2 = (C1*V1)/V2 # TODO: Calculate final concentration\n",
    "    C2_values.append(C2)\n",
    "    print(f\"Initial concentration: {C1} mg/mL -> Final concentration: {C2:.2f} mg/mL\")\n",
    "\n",
    "# Create an empty list to store slope values\n",
    "slopes = []\n",
    "\n",
    "# Calculate the slope for each consecutive pair of points\n",
    "for i in range(1, len(C1_values)):\n",
    "    x1, x2 = C1_values[i - 1], C1_values[i]\n",
    "    y1, y2 = C2_values[i - 1], C2_values[i]\n",
    "    slope = (y2 - y1)/(x2 - x1) # TODO: Calculate the slope using the formula (y2 - y1) / (x2 - x1)\n",
    "\n",
    "    slopes.append(slope)\n",
    "\n",
    "# Print the list of calculated slopes\n",
    "print(\"Calculated slopes:\", slopes)\n"
   ]
  },
  {
   "cell_type": "markdown",
   "metadata": {
    "id": "8dZJhUvUjmjl"
   },
   "source": [
    "\n",
    "##  <font color='cyan'> Part 4 : yours turn !"
   ]
  },
  {
   "cell_type": "markdown",
   "metadata": {
    "id": "uRXwBpWzjztR"
   },
   "source": [
    "For this final task, you’ll combine everything you’ve learned about defining variables, using for loops, and working with lists to solve a problem of your own creation.\n",
    "\n",
    "Instructions:\n",
    "\n",
    "*   Choose a scientific or mathematical formula that interests you (e.g., population growth, michealis menten, acceleration, etc.).\n",
    "\n",
    "*   Define a list of input parameters relevant to your chosen formula.\n",
    "Use a for loop to iterate through the parameters and calculate the result for each.\n",
    "\n",
    "\n",
    "*   Save all the results in a new list.\n",
    "*   Print both the input parameters and their corresponding results.\n",
    "\n",
    "\n",
    "\n",
    "\n"
   ]
  },
  {
   "cell_type": "code",
   "execution_count": 7,
   "metadata": {},
   "outputs": [
    {
     "name": "stdout",
     "output_type": "stream",
     "text": [
      "At a time : 1 seconds -> The function resembles y: 1.52\n",
      "At a time : 2 seconds -> The function resembles y: 2.08\n",
      "At a time : 3 seconds -> The function resembles y: 2.28\n",
      "At a time : 4 seconds -> The function resembles y: 2.36\n",
      "At a time : 10 seconds -> The function resembles y: 2.40\n",
      "At a time : 20 seconds -> The function resembles y: 2.40\n",
      "At a time : 30 seconds -> The function resembles y: 2.40\n",
      "At a time : 40 seconds -> The function resembles y: 2.40\n",
      "At a time : 100 seconds -> The function resembles y: 2.40\n",
      "At a time : 200 seconds -> The function resembles y: 2.40\n"
     ]
    }
   ],
   "source": [
    "# A formula for Resistor-Conductor circuit\n",
    "# I want to calculate the following formula for various voltages\n",
    "\n",
    "V = 12 # mV\n",
    "C = 0.2 # mOhm^-1\n",
    "R = 1/C # mOhm\n",
    "e = 2.71828 # the number e\n",
    "T_list = [1, 2, 3, 4, 10, 20, 30, 40, 100, 200] # t - time (sec.)\n",
    "\n",
    "Result_list = []\n",
    "\n",
    "for t in T_list:\n",
    "    y = V*C*(1-e**(-t/(R*C)))\n",
    "    Result_list.append(y)\n",
    "    print(f\"At a time : {t} seconds -> The function resembles y: {y:.2f}\")"
   ]
  }
 ],
 "metadata": {
  "colab": {
   "provenance": []
  },
  "kernelspec": {
   "display_name": "Python 3",
   "language": "python",
   "name": "python3"
  },
  "language_info": {
   "codemirror_mode": {
    "name": "ipython",
    "version": 3
   },
   "file_extension": ".py",
   "mimetype": "text/x-python",
   "name": "python",
   "nbconvert_exporter": "python",
   "pygments_lexer": "ipython3",
   "version": "3.13.0"
  }
 },
 "nbformat": 4,
 "nbformat_minor": 0
}
